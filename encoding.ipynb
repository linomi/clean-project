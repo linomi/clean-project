{
 "cells": [
  {
   "cell_type": "code",
   "execution_count": 1,
   "metadata": {},
   "outputs": [
    {
     "name": "stderr",
     "output_type": "stream",
     "text": [
      "2023-10-29 19:28:32.814839: I tensorflow/tsl/cuda/cudart_stub.cc:28] Could not find cuda drivers on your machine, GPU will not be used.\n",
      "2023-10-29 19:28:32.854572: I tensorflow/tsl/cuda/cudart_stub.cc:28] Could not find cuda drivers on your machine, GPU will not be used.\n",
      "2023-10-29 19:28:32.855551: I tensorflow/core/platform/cpu_feature_guard.cc:182] This TensorFlow binary is optimized to use available CPU instructions in performance-critical operations.\n",
      "To enable the following instructions: AVX2 FMA, in other operations, rebuild TensorFlow with the appropriate compiler flags.\n",
      "2023-10-29 19:28:33.667501: W tensorflow/compiler/tf2tensorrt/utils/py_utils.cc:38] TF-TRT Warning: Could not find TensorRT\n"
     ]
    }
   ],
   "source": [
    "from tensorflow.keras.layers import *\n",
    "import tensorflow as tf\n",
    "import numpy as np\n",
    "import gc\n",
    "from tensorflow import keras\n",
    "from keras import layers\n",
    "from keras.models import Model\n",
    "from bulid_transformer_model import bulid_model\n",
    "from data_loading import load_data\n",
    "from sequence_generator import seq_generator"
   ]
  },
  {
   "cell_type": "code",
   "execution_count": 2,
   "metadata": {},
   "outputs": [
    {
     "name": "stderr",
     "output_type": "stream",
     "text": [
      "/workspaces/mouse_visual_cortex_NN_modeling/data_loading.py:24: FutureWarning: elementwise comparison failed; returning scalar instead, but in the future will perform elementwise comparison\n",
      "  running_speed_train[np.where(running_speed_train=='Nan')] = 0\n",
      "/workspaces/mouse_visual_cortex_NN_modeling/data_loading.py:42: FutureWarning: elementwise comparison failed; returning scalar instead, but in the future will perform elementwise comparison\n",
      "  running_speed_val[np.where(running_speed_train=='Nan')] = 0\n"
     ]
    }
   ],
   "source": [
    "(train_movie,train_trace,train_speed),_ = load_data(501271265)"
   ]
  },
  {
   "cell_type": "code",
   "execution_count": 3,
   "metadata": {},
   "outputs": [],
   "source": [
    "model = bulid_model(num_heads=4,spatial_layers=3,temporal_layers=2,delay=40,embed_dim=128,output_shape=8)\n",
    "\n",
    "data = seq_generator(x = train_movie,y = train_trace,r = train_speed,delay = 40,shuffle=True,batch_size=10)\n"
   ]
  },
  {
   "cell_type": "code",
   "execution_count": 1,
   "metadata": {},
   "outputs": [
    {
     "ename": "UndefinedVariableError",
     "evalue": "name 'reliability_nm3' is not defined",
     "output_type": "error",
     "traceback": [
      "\u001b[0;31m---------------------------------------------------------------------------\u001b[0m",
      "\u001b[0;31mKeyError\u001b[0m                                  Traceback (most recent call last)",
      "File \u001b[0;32m/workspaces/mouse_visual_cortex_NN_modeling/.venv/lib/python3.8/site-packages/pandas/core/computation/scope.py:198\u001b[0m, in \u001b[0;36mScope.resolve\u001b[0;34m(self, key, is_local)\u001b[0m\n\u001b[1;32m    197\u001b[0m \u001b[39mif\u001b[39;00m \u001b[39mself\u001b[39m\u001b[39m.\u001b[39mhas_resolvers:\n\u001b[0;32m--> 198\u001b[0m     \u001b[39mreturn\u001b[39;00m \u001b[39mself\u001b[39;49m\u001b[39m.\u001b[39;49mresolvers[key]\n\u001b[1;32m    200\u001b[0m \u001b[39m# if we're here that means that we have no locals and we also have\u001b[39;00m\n\u001b[1;32m    201\u001b[0m \u001b[39m# no resolvers\u001b[39;00m\n",
      "File \u001b[0;32m/usr/lib/python3.8/collections/__init__.py:898\u001b[0m, in \u001b[0;36mChainMap.__getitem__\u001b[0;34m(self, key)\u001b[0m\n\u001b[1;32m    897\u001b[0m         \u001b[39mpass\u001b[39;00m\n\u001b[0;32m--> 898\u001b[0m \u001b[39mreturn\u001b[39;00m \u001b[39mself\u001b[39;49m\u001b[39m.\u001b[39;49m\u001b[39m__missing__\u001b[39;49m(key)\n",
      "File \u001b[0;32m/usr/lib/python3.8/collections/__init__.py:890\u001b[0m, in \u001b[0;36mChainMap.__missing__\u001b[0;34m(self, key)\u001b[0m\n\u001b[1;32m    889\u001b[0m \u001b[39mdef\u001b[39;00m \u001b[39m__missing__\u001b[39m(\u001b[39mself\u001b[39m, key):\n\u001b[0;32m--> 890\u001b[0m     \u001b[39mraise\u001b[39;00m \u001b[39mKeyError\u001b[39;00m(key)\n",
      "\u001b[0;31mKeyError\u001b[0m: 'reliability_nm3'",
      "\nDuring handling of the above exception, another exception occurred:\n",
      "\u001b[0;31mKeyError\u001b[0m                                  Traceback (most recent call last)",
      "File \u001b[0;32m/workspaces/mouse_visual_cortex_NN_modeling/.venv/lib/python3.8/site-packages/pandas/core/computation/scope.py:209\u001b[0m, in \u001b[0;36mScope.resolve\u001b[0;34m(self, key, is_local)\u001b[0m\n\u001b[1;32m    205\u001b[0m \u001b[39mtry\u001b[39;00m:\n\u001b[1;32m    206\u001b[0m     \u001b[39m# last ditch effort we look in temporaries\u001b[39;00m\n\u001b[1;32m    207\u001b[0m     \u001b[39m# these are created when parsing indexing expressions\u001b[39;00m\n\u001b[1;32m    208\u001b[0m     \u001b[39m# e.g., df[df > 0]\u001b[39;00m\n\u001b[0;32m--> 209\u001b[0m     \u001b[39mreturn\u001b[39;00m \u001b[39mself\u001b[39;49m\u001b[39m.\u001b[39;49mtemps[key]\n\u001b[1;32m    210\u001b[0m \u001b[39mexcept\u001b[39;00m \u001b[39mKeyError\u001b[39;00m \u001b[39mas\u001b[39;00m err:\n",
      "\u001b[0;31mKeyError\u001b[0m: 'reliability_nm3'",
      "\nThe above exception was the direct cause of the following exception:\n",
      "\u001b[0;31mUndefinedVariableError\u001b[0m                    Traceback (most recent call last)",
      "\u001b[1;32m/workspaces/mouse_visual_cortex_NN_modeling/encoding.ipynb Cell 4\u001b[0m line \u001b[0;36m2\n\u001b[1;32m     <a href='vscode-notebook-cell://codespaces%2Bautomatic-space-spoon-96v9vjvx7qg27wxg/workspaces/mouse_visual_cortex_NN_modeling/encoding.ipynb#X11sdnNjb2RlLXJlbW90ZQ%3D%3D?line=23'>24</a>\u001b[0m filters \u001b[39m=\u001b[39m json\u001b[39m.\u001b[39mloads(filter_json)\n\u001b[1;32m     <a href='vscode-notebook-cell://codespaces%2Bautomatic-space-spoon-96v9vjvx7qg27wxg/workspaces/mouse_visual_cortex_NN_modeling/encoding.ipynb#X11sdnNjb2RlLXJlbW90ZQ%3D%3D?line=25'>26</a>\u001b[0m boc \u001b[39m=\u001b[39m BrainObservatoryCache(manifest_file\u001b[39m=\u001b[39m\u001b[39m\"\u001b[39m\u001b[39mbrain_observatory/manifest.json\u001b[39m\u001b[39m\"\u001b[39m)\n\u001b[0;32m---> <a href='vscode-notebook-cell://codespaces%2Bautomatic-space-spoon-96v9vjvx7qg27wxg/workspaces/mouse_visual_cortex_NN_modeling/encoding.ipynb#X11sdnNjb2RlLXJlbW90ZQ%3D%3D?line=26'>27</a>\u001b[0m cells \u001b[39m=\u001b[39m boc\u001b[39m.\u001b[39;49mget_cell_specimens(filters\u001b[39m=\u001b[39;49mfilters)\n",
      "File \u001b[0;32m/workspaces/mouse_visual_cortex_NN_modeling/.venv/lib/python3.8/site-packages/allensdk/core/brain_observatory_cache.py:496\u001b[0m, in \u001b[0;36mBrainObservatoryCache.get_cell_specimens\u001b[0;34m(self, file_name, ids, experiment_container_ids, include_failed, simple, filters)\u001b[0m\n\u001b[1;32m    487\u001b[0m file_name \u001b[39m=\u001b[39m \u001b[39mself\u001b[39m\u001b[39m.\u001b[39mget_cache_path(file_name, \u001b[39mself\u001b[39m\u001b[39m.\u001b[39mCELL_SPECIMENS_KEY)\n\u001b[1;32m    489\u001b[0m cell_specimens \u001b[39m=\u001b[39m \u001b[39mself\u001b[39m\u001b[39m.\u001b[39mapi\u001b[39m.\u001b[39mget_cell_metrics(\n\u001b[1;32m    490\u001b[0m     path\u001b[39m=\u001b[39mfile_name,\n\u001b[1;32m    491\u001b[0m     strategy\u001b[39m=\u001b[39m\u001b[39m\"\u001b[39m\u001b[39mlazy\u001b[39m\u001b[39m\"\u001b[39m,\n\u001b[1;32m    492\u001b[0m     pre\u001b[39m=\u001b[39m\u001b[39mlambda\u001b[39;00m x: [y \u001b[39mfor\u001b[39;00m y \u001b[39min\u001b[39;00m x],\n\u001b[1;32m    493\u001b[0m     \u001b[39m*\u001b[39m\u001b[39m*\u001b[39mCache\u001b[39m.\u001b[39mcache_json(),\n\u001b[1;32m    494\u001b[0m )\n\u001b[0;32m--> 496\u001b[0m cell_specimens \u001b[39m=\u001b[39m \u001b[39mself\u001b[39;49m\u001b[39m.\u001b[39;49mapi\u001b[39m.\u001b[39;49mfilter_cell_specimens(\n\u001b[1;32m    497\u001b[0m     cell_specimens,\n\u001b[1;32m    498\u001b[0m     ids\u001b[39m=\u001b[39;49mids,\n\u001b[1;32m    499\u001b[0m     experiment_container_ids\u001b[39m=\u001b[39;49mexperiment_container_ids,\n\u001b[1;32m    500\u001b[0m     include_failed\u001b[39m=\u001b[39;49minclude_failed,\n\u001b[1;32m    501\u001b[0m     filters\u001b[39m=\u001b[39;49mfilters,\n\u001b[1;32m    502\u001b[0m )\n\u001b[1;32m    504\u001b[0m \u001b[39m# drop the thumbnail columns\u001b[39;00m\n\u001b[1;32m    505\u001b[0m \u001b[39mif\u001b[39;00m simple:\n",
      "File \u001b[0;32m/workspaces/mouse_visual_cortex_NN_modeling/.venv/lib/python3.8/site-packages/allensdk/api/queries/brain_observatory_api.py:775\u001b[0m, in \u001b[0;36mBrainObservatoryApi.filter_cell_specimens\u001b[0;34m(self, cell_specimens, ids, experiment_container_ids, include_failed, filters)\u001b[0m\n\u001b[1;32m    768\u001b[0m     cell_specimens \u001b[39m=\u001b[39m [\n\u001b[1;32m    769\u001b[0m         c\n\u001b[1;32m    770\u001b[0m         \u001b[39mfor\u001b[39;00m c \u001b[39min\u001b[39;00m cell_specimens\n\u001b[1;32m    771\u001b[0m         \u001b[39mif\u001b[39;00m c[\u001b[39m\"\u001b[39m\u001b[39mexperiment_container_id\u001b[39m\u001b[39m\"\u001b[39m] \u001b[39min\u001b[39;00m experiment_container_ids\n\u001b[1;32m    772\u001b[0m     ]\n\u001b[1;32m    774\u001b[0m \u001b[39mif\u001b[39;00m filters \u001b[39mis\u001b[39;00m \u001b[39mnot\u001b[39;00m \u001b[39mNone\u001b[39;00m:\n\u001b[0;32m--> 775\u001b[0m     cell_specimens \u001b[39m=\u001b[39m \u001b[39mself\u001b[39;49m\u001b[39m.\u001b[39;49mdataframe_query(\n\u001b[1;32m    776\u001b[0m         cell_specimens, filters, \u001b[39m\"\u001b[39;49m\u001b[39mcell_specimen_id\u001b[39;49m\u001b[39m\"\u001b[39;49m\n\u001b[1;32m    777\u001b[0m     )\n\u001b[1;32m    779\u001b[0m \u001b[39mreturn\u001b[39;00m cell_specimens\n",
      "File \u001b[0;32m/workspaces/mouse_visual_cortex_NN_modeling/.venv/lib/python3.8/site-packages/allensdk/api/queries/brain_observatory_api.py:838\u001b[0m, in \u001b[0;36mBrainObservatoryApi.dataframe_query\u001b[0;34m(self, data, filters, primary_key)\u001b[0m\n\u001b[1;32m    836\u001b[0m queries \u001b[39m=\u001b[39m \u001b[39mself\u001b[39m\u001b[39m.\u001b[39mdataframe_query_string(filters)\n\u001b[1;32m    837\u001b[0m result_dataframe \u001b[39m=\u001b[39m pd\u001b[39m.\u001b[39mDataFrame(data)\n\u001b[0;32m--> 838\u001b[0m result_dataframe \u001b[39m=\u001b[39m result_dataframe\u001b[39m.\u001b[39;49mquery(queries)\n\u001b[1;32m    840\u001b[0m result_keys \u001b[39m=\u001b[39m \u001b[39mset\u001b[39m(result_dataframe[primary_key])\n\u001b[1;32m    841\u001b[0m result \u001b[39m=\u001b[39m [d \u001b[39mfor\u001b[39;00m d \u001b[39min\u001b[39;00m data \u001b[39mif\u001b[39;00m d[primary_key] \u001b[39min\u001b[39;00m result_keys]\n",
      "File \u001b[0;32m/workspaces/mouse_visual_cortex_NN_modeling/.venv/lib/python3.8/site-packages/pandas/util/_decorators.py:331\u001b[0m, in \u001b[0;36mdeprecate_nonkeyword_arguments.<locals>.decorate.<locals>.wrapper\u001b[0;34m(*args, **kwargs)\u001b[0m\n\u001b[1;32m    325\u001b[0m \u001b[39mif\u001b[39;00m \u001b[39mlen\u001b[39m(args) \u001b[39m>\u001b[39m num_allow_args:\n\u001b[1;32m    326\u001b[0m     warnings\u001b[39m.\u001b[39mwarn(\n\u001b[1;32m    327\u001b[0m         msg\u001b[39m.\u001b[39mformat(arguments\u001b[39m=\u001b[39m_format_argument_list(allow_args)),\n\u001b[1;32m    328\u001b[0m         \u001b[39mFutureWarning\u001b[39;00m,\n\u001b[1;32m    329\u001b[0m         stacklevel\u001b[39m=\u001b[39mfind_stack_level(),\n\u001b[1;32m    330\u001b[0m     )\n\u001b[0;32m--> 331\u001b[0m \u001b[39mreturn\u001b[39;00m func(\u001b[39m*\u001b[39;49margs, \u001b[39m*\u001b[39;49m\u001b[39m*\u001b[39;49mkwargs)\n",
      "File \u001b[0;32m/workspaces/mouse_visual_cortex_NN_modeling/.venv/lib/python3.8/site-packages/pandas/core/frame.py:4474\u001b[0m, in \u001b[0;36mDataFrame.query\u001b[0;34m(self, expr, inplace, **kwargs)\u001b[0m\n\u001b[1;32m   4472\u001b[0m kwargs[\u001b[39m\"\u001b[39m\u001b[39mlevel\u001b[39m\u001b[39m\"\u001b[39m] \u001b[39m=\u001b[39m kwargs\u001b[39m.\u001b[39mpop(\u001b[39m\"\u001b[39m\u001b[39mlevel\u001b[39m\u001b[39m\"\u001b[39m, \u001b[39m0\u001b[39m) \u001b[39m+\u001b[39m \u001b[39m2\u001b[39m\n\u001b[1;32m   4473\u001b[0m kwargs[\u001b[39m\"\u001b[39m\u001b[39mtarget\u001b[39m\u001b[39m\"\u001b[39m] \u001b[39m=\u001b[39m \u001b[39mNone\u001b[39;00m\n\u001b[0;32m-> 4474\u001b[0m res \u001b[39m=\u001b[39m \u001b[39mself\u001b[39;49m\u001b[39m.\u001b[39;49meval(expr, \u001b[39m*\u001b[39;49m\u001b[39m*\u001b[39;49mkwargs)\n\u001b[1;32m   4476\u001b[0m \u001b[39mtry\u001b[39;00m:\n\u001b[1;32m   4477\u001b[0m     result \u001b[39m=\u001b[39m \u001b[39mself\u001b[39m\u001b[39m.\u001b[39mloc[res]\n",
      "File \u001b[0;32m/workspaces/mouse_visual_cortex_NN_modeling/.venv/lib/python3.8/site-packages/pandas/util/_decorators.py:331\u001b[0m, in \u001b[0;36mdeprecate_nonkeyword_arguments.<locals>.decorate.<locals>.wrapper\u001b[0;34m(*args, **kwargs)\u001b[0m\n\u001b[1;32m    325\u001b[0m \u001b[39mif\u001b[39;00m \u001b[39mlen\u001b[39m(args) \u001b[39m>\u001b[39m num_allow_args:\n\u001b[1;32m    326\u001b[0m     warnings\u001b[39m.\u001b[39mwarn(\n\u001b[1;32m    327\u001b[0m         msg\u001b[39m.\u001b[39mformat(arguments\u001b[39m=\u001b[39m_format_argument_list(allow_args)),\n\u001b[1;32m    328\u001b[0m         \u001b[39mFutureWarning\u001b[39;00m,\n\u001b[1;32m    329\u001b[0m         stacklevel\u001b[39m=\u001b[39mfind_stack_level(),\n\u001b[1;32m    330\u001b[0m     )\n\u001b[0;32m--> 331\u001b[0m \u001b[39mreturn\u001b[39;00m func(\u001b[39m*\u001b[39;49margs, \u001b[39m*\u001b[39;49m\u001b[39m*\u001b[39;49mkwargs)\n",
      "File \u001b[0;32m/workspaces/mouse_visual_cortex_NN_modeling/.venv/lib/python3.8/site-packages/pandas/core/frame.py:4612\u001b[0m, in \u001b[0;36mDataFrame.eval\u001b[0;34m(self, expr, inplace, **kwargs)\u001b[0m\n\u001b[1;32m   4609\u001b[0m     kwargs[\u001b[39m\"\u001b[39m\u001b[39mtarget\u001b[39m\u001b[39m\"\u001b[39m] \u001b[39m=\u001b[39m \u001b[39mself\u001b[39m\n\u001b[1;32m   4610\u001b[0m kwargs[\u001b[39m\"\u001b[39m\u001b[39mresolvers\u001b[39m\u001b[39m\"\u001b[39m] \u001b[39m=\u001b[39m \u001b[39mtuple\u001b[39m(kwargs\u001b[39m.\u001b[39mget(\u001b[39m\"\u001b[39m\u001b[39mresolvers\u001b[39m\u001b[39m\"\u001b[39m, ())) \u001b[39m+\u001b[39m resolvers\n\u001b[0;32m-> 4612\u001b[0m \u001b[39mreturn\u001b[39;00m _eval(expr, inplace\u001b[39m=\u001b[39;49minplace, \u001b[39m*\u001b[39;49m\u001b[39m*\u001b[39;49mkwargs)\n",
      "File \u001b[0;32m/workspaces/mouse_visual_cortex_NN_modeling/.venv/lib/python3.8/site-packages/pandas/core/computation/eval.py:353\u001b[0m, in \u001b[0;36meval\u001b[0;34m(expr, parser, engine, truediv, local_dict, global_dict, resolvers, level, target, inplace)\u001b[0m\n\u001b[1;32m    344\u001b[0m \u001b[39m# get our (possibly passed-in) scope\u001b[39;00m\n\u001b[1;32m    345\u001b[0m env \u001b[39m=\u001b[39m ensure_scope(\n\u001b[1;32m    346\u001b[0m     level \u001b[39m+\u001b[39m \u001b[39m1\u001b[39m,\n\u001b[1;32m    347\u001b[0m     global_dict\u001b[39m=\u001b[39mglobal_dict,\n\u001b[0;32m   (...)\u001b[0m\n\u001b[1;32m    350\u001b[0m     target\u001b[39m=\u001b[39mtarget,\n\u001b[1;32m    351\u001b[0m )\n\u001b[0;32m--> 353\u001b[0m parsed_expr \u001b[39m=\u001b[39m Expr(expr, engine\u001b[39m=\u001b[39;49mengine, parser\u001b[39m=\u001b[39;49mparser, env\u001b[39m=\u001b[39;49menv)\n\u001b[1;32m    355\u001b[0m \u001b[39m# construct the engine and evaluate the parsed expression\u001b[39;00m\n\u001b[1;32m    356\u001b[0m eng \u001b[39m=\u001b[39m ENGINES[engine]\n",
      "File \u001b[0;32m/workspaces/mouse_visual_cortex_NN_modeling/.venv/lib/python3.8/site-packages/pandas/core/computation/expr.py:813\u001b[0m, in \u001b[0;36mExpr.__init__\u001b[0;34m(self, expr, engine, parser, env, level)\u001b[0m\n\u001b[1;32m    811\u001b[0m \u001b[39mself\u001b[39m\u001b[39m.\u001b[39mparser \u001b[39m=\u001b[39m parser\n\u001b[1;32m    812\u001b[0m \u001b[39mself\u001b[39m\u001b[39m.\u001b[39m_visitor \u001b[39m=\u001b[39m PARSERS[parser](\u001b[39mself\u001b[39m\u001b[39m.\u001b[39menv, \u001b[39mself\u001b[39m\u001b[39m.\u001b[39mengine, \u001b[39mself\u001b[39m\u001b[39m.\u001b[39mparser)\n\u001b[0;32m--> 813\u001b[0m \u001b[39mself\u001b[39m\u001b[39m.\u001b[39mterms \u001b[39m=\u001b[39m \u001b[39mself\u001b[39;49m\u001b[39m.\u001b[39;49mparse()\n",
      "File \u001b[0;32m/workspaces/mouse_visual_cortex_NN_modeling/.venv/lib/python3.8/site-packages/pandas/core/computation/expr.py:832\u001b[0m, in \u001b[0;36mExpr.parse\u001b[0;34m(self)\u001b[0m\n\u001b[1;32m    828\u001b[0m \u001b[39mdef\u001b[39;00m \u001b[39mparse\u001b[39m(\u001b[39mself\u001b[39m):\n\u001b[1;32m    829\u001b[0m \u001b[39m    \u001b[39m\u001b[39m\"\"\"\u001b[39;00m\n\u001b[1;32m    830\u001b[0m \u001b[39m    Parse an expression.\u001b[39;00m\n\u001b[1;32m    831\u001b[0m \u001b[39m    \"\"\"\u001b[39;00m\n\u001b[0;32m--> 832\u001b[0m     \u001b[39mreturn\u001b[39;00m \u001b[39mself\u001b[39;49m\u001b[39m.\u001b[39;49m_visitor\u001b[39m.\u001b[39;49mvisit(\u001b[39mself\u001b[39;49m\u001b[39m.\u001b[39;49mexpr)\n",
      "File \u001b[0;32m/workspaces/mouse_visual_cortex_NN_modeling/.venv/lib/python3.8/site-packages/pandas/core/computation/expr.py:415\u001b[0m, in \u001b[0;36mBaseExprVisitor.visit\u001b[0;34m(self, node, **kwargs)\u001b[0m\n\u001b[1;32m    413\u001b[0m method \u001b[39m=\u001b[39m \u001b[39m\"\u001b[39m\u001b[39mvisit_\u001b[39m\u001b[39m\"\u001b[39m \u001b[39m+\u001b[39m \u001b[39mtype\u001b[39m(node)\u001b[39m.\u001b[39m\u001b[39m__name__\u001b[39m\n\u001b[1;32m    414\u001b[0m visitor \u001b[39m=\u001b[39m \u001b[39mgetattr\u001b[39m(\u001b[39mself\u001b[39m, method)\n\u001b[0;32m--> 415\u001b[0m \u001b[39mreturn\u001b[39;00m visitor(node, \u001b[39m*\u001b[39;49m\u001b[39m*\u001b[39;49mkwargs)\n",
      "File \u001b[0;32m/workspaces/mouse_visual_cortex_NN_modeling/.venv/lib/python3.8/site-packages/pandas/core/computation/expr.py:421\u001b[0m, in \u001b[0;36mBaseExprVisitor.visit_Module\u001b[0;34m(self, node, **kwargs)\u001b[0m\n\u001b[1;32m    419\u001b[0m     \u001b[39mraise\u001b[39;00m \u001b[39mSyntaxError\u001b[39;00m(\u001b[39m\"\u001b[39m\u001b[39monly a single expression is allowed\u001b[39m\u001b[39m\"\u001b[39m)\n\u001b[1;32m    420\u001b[0m expr \u001b[39m=\u001b[39m node\u001b[39m.\u001b[39mbody[\u001b[39m0\u001b[39m]\n\u001b[0;32m--> 421\u001b[0m \u001b[39mreturn\u001b[39;00m \u001b[39mself\u001b[39;49m\u001b[39m.\u001b[39;49mvisit(expr, \u001b[39m*\u001b[39;49m\u001b[39m*\u001b[39;49mkwargs)\n",
      "File \u001b[0;32m/workspaces/mouse_visual_cortex_NN_modeling/.venv/lib/python3.8/site-packages/pandas/core/computation/expr.py:415\u001b[0m, in \u001b[0;36mBaseExprVisitor.visit\u001b[0;34m(self, node, **kwargs)\u001b[0m\n\u001b[1;32m    413\u001b[0m method \u001b[39m=\u001b[39m \u001b[39m\"\u001b[39m\u001b[39mvisit_\u001b[39m\u001b[39m\"\u001b[39m \u001b[39m+\u001b[39m \u001b[39mtype\u001b[39m(node)\u001b[39m.\u001b[39m\u001b[39m__name__\u001b[39m\n\u001b[1;32m    414\u001b[0m visitor \u001b[39m=\u001b[39m \u001b[39mgetattr\u001b[39m(\u001b[39mself\u001b[39m, method)\n\u001b[0;32m--> 415\u001b[0m \u001b[39mreturn\u001b[39;00m visitor(node, \u001b[39m*\u001b[39;49m\u001b[39m*\u001b[39;49mkwargs)\n",
      "File \u001b[0;32m/workspaces/mouse_visual_cortex_NN_modeling/.venv/lib/python3.8/site-packages/pandas/core/computation/expr.py:424\u001b[0m, in \u001b[0;36mBaseExprVisitor.visit_Expr\u001b[0;34m(self, node, **kwargs)\u001b[0m\n\u001b[1;32m    423\u001b[0m \u001b[39mdef\u001b[39;00m \u001b[39mvisit_Expr\u001b[39m(\u001b[39mself\u001b[39m, node, \u001b[39m*\u001b[39m\u001b[39m*\u001b[39mkwargs):\n\u001b[0;32m--> 424\u001b[0m     \u001b[39mreturn\u001b[39;00m \u001b[39mself\u001b[39;49m\u001b[39m.\u001b[39;49mvisit(node\u001b[39m.\u001b[39;49mvalue, \u001b[39m*\u001b[39;49m\u001b[39m*\u001b[39;49mkwargs)\n",
      "File \u001b[0;32m/workspaces/mouse_visual_cortex_NN_modeling/.venv/lib/python3.8/site-packages/pandas/core/computation/expr.py:415\u001b[0m, in \u001b[0;36mBaseExprVisitor.visit\u001b[0;34m(self, node, **kwargs)\u001b[0m\n\u001b[1;32m    413\u001b[0m method \u001b[39m=\u001b[39m \u001b[39m\"\u001b[39m\u001b[39mvisit_\u001b[39m\u001b[39m\"\u001b[39m \u001b[39m+\u001b[39m \u001b[39mtype\u001b[39m(node)\u001b[39m.\u001b[39m\u001b[39m__name__\u001b[39m\n\u001b[1;32m    414\u001b[0m visitor \u001b[39m=\u001b[39m \u001b[39mgetattr\u001b[39m(\u001b[39mself\u001b[39m, method)\n\u001b[0;32m--> 415\u001b[0m \u001b[39mreturn\u001b[39;00m visitor(node, \u001b[39m*\u001b[39;49m\u001b[39m*\u001b[39;49mkwargs)\n",
      "File \u001b[0;32m/workspaces/mouse_visual_cortex_NN_modeling/.venv/lib/python3.8/site-packages/pandas/core/computation/expr.py:750\u001b[0m, in \u001b[0;36mBaseExprVisitor.visit_BoolOp\u001b[0;34m(self, node, **kwargs)\u001b[0m\n\u001b[1;32m    747\u001b[0m     \u001b[39mreturn\u001b[39;00m \u001b[39mself\u001b[39m\u001b[39m.\u001b[39m_maybe_evaluate_binop(op, node\u001b[39m.\u001b[39mop, lhs, rhs)\n\u001b[1;32m    749\u001b[0m operands \u001b[39m=\u001b[39m node\u001b[39m.\u001b[39mvalues\n\u001b[0;32m--> 750\u001b[0m \u001b[39mreturn\u001b[39;00m reduce(visitor, operands)\n",
      "File \u001b[0;32m/workspaces/mouse_visual_cortex_NN_modeling/.venv/lib/python3.8/site-packages/pandas/core/computation/expr.py:743\u001b[0m, in \u001b[0;36mBaseExprVisitor.visit_BoolOp.<locals>.visitor\u001b[0;34m(x, y)\u001b[0m\n\u001b[1;32m    742\u001b[0m \u001b[39mdef\u001b[39;00m \u001b[39mvisitor\u001b[39m(x, y):\n\u001b[0;32m--> 743\u001b[0m     lhs \u001b[39m=\u001b[39m \u001b[39mself\u001b[39;49m\u001b[39m.\u001b[39;49m_try_visit_binop(x)\n\u001b[1;32m    744\u001b[0m     rhs \u001b[39m=\u001b[39m \u001b[39mself\u001b[39m\u001b[39m.\u001b[39m_try_visit_binop(y)\n\u001b[1;32m    746\u001b[0m     op, op_class, lhs, rhs \u001b[39m=\u001b[39m \u001b[39mself\u001b[39m\u001b[39m.\u001b[39m_maybe_transform_eq_ne(node, lhs, rhs)\n",
      "File \u001b[0;32m/workspaces/mouse_visual_cortex_NN_modeling/.venv/lib/python3.8/site-packages/pandas/core/computation/expr.py:739\u001b[0m, in \u001b[0;36mBaseExprVisitor._try_visit_binop\u001b[0;34m(self, bop)\u001b[0m\n\u001b[1;32m    737\u001b[0m \u001b[39mif\u001b[39;00m \u001b[39misinstance\u001b[39m(bop, (Op, Term)):\n\u001b[1;32m    738\u001b[0m     \u001b[39mreturn\u001b[39;00m bop\n\u001b[0;32m--> 739\u001b[0m \u001b[39mreturn\u001b[39;00m \u001b[39mself\u001b[39;49m\u001b[39m.\u001b[39;49mvisit(bop)\n",
      "File \u001b[0;32m/workspaces/mouse_visual_cortex_NN_modeling/.venv/lib/python3.8/site-packages/pandas/core/computation/expr.py:415\u001b[0m, in \u001b[0;36mBaseExprVisitor.visit\u001b[0;34m(self, node, **kwargs)\u001b[0m\n\u001b[1;32m    413\u001b[0m method \u001b[39m=\u001b[39m \u001b[39m\"\u001b[39m\u001b[39mvisit_\u001b[39m\u001b[39m\"\u001b[39m \u001b[39m+\u001b[39m \u001b[39mtype\u001b[39m(node)\u001b[39m.\u001b[39m\u001b[39m__name__\u001b[39m\n\u001b[1;32m    414\u001b[0m visitor \u001b[39m=\u001b[39m \u001b[39mgetattr\u001b[39m(\u001b[39mself\u001b[39m, method)\n\u001b[0;32m--> 415\u001b[0m \u001b[39mreturn\u001b[39;00m visitor(node, \u001b[39m*\u001b[39;49m\u001b[39m*\u001b[39;49mkwargs)\n",
      "File \u001b[0;32m/workspaces/mouse_visual_cortex_NN_modeling/.venv/lib/python3.8/site-packages/pandas/core/computation/expr.py:723\u001b[0m, in \u001b[0;36mBaseExprVisitor.visit_Compare\u001b[0;34m(self, node, **kwargs)\u001b[0m\n\u001b[1;32m    721\u001b[0m     op \u001b[39m=\u001b[39m \u001b[39mself\u001b[39m\u001b[39m.\u001b[39mtranslate_In(ops[\u001b[39m0\u001b[39m])\n\u001b[1;32m    722\u001b[0m     binop \u001b[39m=\u001b[39m ast\u001b[39m.\u001b[39mBinOp(op\u001b[39m=\u001b[39mop, left\u001b[39m=\u001b[39mnode\u001b[39m.\u001b[39mleft, right\u001b[39m=\u001b[39mcomps[\u001b[39m0\u001b[39m])\n\u001b[0;32m--> 723\u001b[0m     \u001b[39mreturn\u001b[39;00m \u001b[39mself\u001b[39;49m\u001b[39m.\u001b[39;49mvisit(binop)\n\u001b[1;32m    725\u001b[0m \u001b[39m# recursive case: we have a chained comparison, a CMP b CMP c, etc.\u001b[39;00m\n\u001b[1;32m    726\u001b[0m left \u001b[39m=\u001b[39m node\u001b[39m.\u001b[39mleft\n",
      "File \u001b[0;32m/workspaces/mouse_visual_cortex_NN_modeling/.venv/lib/python3.8/site-packages/pandas/core/computation/expr.py:415\u001b[0m, in \u001b[0;36mBaseExprVisitor.visit\u001b[0;34m(self, node, **kwargs)\u001b[0m\n\u001b[1;32m    413\u001b[0m method \u001b[39m=\u001b[39m \u001b[39m\"\u001b[39m\u001b[39mvisit_\u001b[39m\u001b[39m\"\u001b[39m \u001b[39m+\u001b[39m \u001b[39mtype\u001b[39m(node)\u001b[39m.\u001b[39m\u001b[39m__name__\u001b[39m\n\u001b[1;32m    414\u001b[0m visitor \u001b[39m=\u001b[39m \u001b[39mgetattr\u001b[39m(\u001b[39mself\u001b[39m, method)\n\u001b[0;32m--> 415\u001b[0m \u001b[39mreturn\u001b[39;00m visitor(node, \u001b[39m*\u001b[39;49m\u001b[39m*\u001b[39;49mkwargs)\n",
      "File \u001b[0;32m/workspaces/mouse_visual_cortex_NN_modeling/.venv/lib/python3.8/site-packages/pandas/core/computation/expr.py:536\u001b[0m, in \u001b[0;36mBaseExprVisitor.visit_BinOp\u001b[0;34m(self, node, **kwargs)\u001b[0m\n\u001b[1;32m    535\u001b[0m \u001b[39mdef\u001b[39;00m \u001b[39mvisit_BinOp\u001b[39m(\u001b[39mself\u001b[39m, node, \u001b[39m*\u001b[39m\u001b[39m*\u001b[39mkwargs):\n\u001b[0;32m--> 536\u001b[0m     op, op_class, left, right \u001b[39m=\u001b[39m \u001b[39mself\u001b[39;49m\u001b[39m.\u001b[39;49m_maybe_transform_eq_ne(node)\n\u001b[1;32m    537\u001b[0m     left, right \u001b[39m=\u001b[39m \u001b[39mself\u001b[39m\u001b[39m.\u001b[39m_maybe_downcast_constants(left, right)\n\u001b[1;32m    538\u001b[0m     \u001b[39mreturn\u001b[39;00m \u001b[39mself\u001b[39m\u001b[39m.\u001b[39m_maybe_evaluate_binop(op, op_class, left, right)\n",
      "File \u001b[0;32m/workspaces/mouse_visual_cortex_NN_modeling/.venv/lib/python3.8/site-packages/pandas/core/computation/expr.py:456\u001b[0m, in \u001b[0;36mBaseExprVisitor._maybe_transform_eq_ne\u001b[0;34m(self, node, left, right)\u001b[0m\n\u001b[1;32m    454\u001b[0m \u001b[39mdef\u001b[39;00m \u001b[39m_maybe_transform_eq_ne\u001b[39m(\u001b[39mself\u001b[39m, node, left\u001b[39m=\u001b[39m\u001b[39mNone\u001b[39;00m, right\u001b[39m=\u001b[39m\u001b[39mNone\u001b[39;00m):\n\u001b[1;32m    455\u001b[0m     \u001b[39mif\u001b[39;00m left \u001b[39mis\u001b[39;00m \u001b[39mNone\u001b[39;00m:\n\u001b[0;32m--> 456\u001b[0m         left \u001b[39m=\u001b[39m \u001b[39mself\u001b[39;49m\u001b[39m.\u001b[39;49mvisit(node\u001b[39m.\u001b[39;49mleft, side\u001b[39m=\u001b[39;49m\u001b[39m\"\u001b[39;49m\u001b[39mleft\u001b[39;49m\u001b[39m\"\u001b[39;49m)\n\u001b[1;32m    457\u001b[0m     \u001b[39mif\u001b[39;00m right \u001b[39mis\u001b[39;00m \u001b[39mNone\u001b[39;00m:\n\u001b[1;32m    458\u001b[0m         right \u001b[39m=\u001b[39m \u001b[39mself\u001b[39m\u001b[39m.\u001b[39mvisit(node\u001b[39m.\u001b[39mright, side\u001b[39m=\u001b[39m\u001b[39m\"\u001b[39m\u001b[39mright\u001b[39m\u001b[39m\"\u001b[39m)\n",
      "File \u001b[0;32m/workspaces/mouse_visual_cortex_NN_modeling/.venv/lib/python3.8/site-packages/pandas/core/computation/expr.py:415\u001b[0m, in \u001b[0;36mBaseExprVisitor.visit\u001b[0;34m(self, node, **kwargs)\u001b[0m\n\u001b[1;32m    413\u001b[0m method \u001b[39m=\u001b[39m \u001b[39m\"\u001b[39m\u001b[39mvisit_\u001b[39m\u001b[39m\"\u001b[39m \u001b[39m+\u001b[39m \u001b[39mtype\u001b[39m(node)\u001b[39m.\u001b[39m\u001b[39m__name__\u001b[39m\n\u001b[1;32m    414\u001b[0m visitor \u001b[39m=\u001b[39m \u001b[39mgetattr\u001b[39m(\u001b[39mself\u001b[39m, method)\n\u001b[0;32m--> 415\u001b[0m \u001b[39mreturn\u001b[39;00m visitor(node, \u001b[39m*\u001b[39;49m\u001b[39m*\u001b[39;49mkwargs)\n",
      "File \u001b[0;32m/workspaces/mouse_visual_cortex_NN_modeling/.venv/lib/python3.8/site-packages/pandas/core/computation/expr.py:549\u001b[0m, in \u001b[0;36mBaseExprVisitor.visit_Name\u001b[0;34m(self, node, **kwargs)\u001b[0m\n\u001b[1;32m    548\u001b[0m \u001b[39mdef\u001b[39;00m \u001b[39mvisit_Name\u001b[39m(\u001b[39mself\u001b[39m, node, \u001b[39m*\u001b[39m\u001b[39m*\u001b[39mkwargs):\n\u001b[0;32m--> 549\u001b[0m     \u001b[39mreturn\u001b[39;00m \u001b[39mself\u001b[39;49m\u001b[39m.\u001b[39;49mterm_type(node\u001b[39m.\u001b[39;49mid, \u001b[39mself\u001b[39;49m\u001b[39m.\u001b[39;49menv, \u001b[39m*\u001b[39;49m\u001b[39m*\u001b[39;49mkwargs)\n",
      "File \u001b[0;32m/workspaces/mouse_visual_cortex_NN_modeling/.venv/lib/python3.8/site-packages/pandas/core/computation/ops.py:85\u001b[0m, in \u001b[0;36mTerm.__init__\u001b[0;34m(self, name, env, side, encoding)\u001b[0m\n\u001b[1;32m     83\u001b[0m tname \u001b[39m=\u001b[39m \u001b[39mstr\u001b[39m(name)\n\u001b[1;32m     84\u001b[0m \u001b[39mself\u001b[39m\u001b[39m.\u001b[39mis_local \u001b[39m=\u001b[39m tname\u001b[39m.\u001b[39mstartswith(LOCAL_TAG) \u001b[39mor\u001b[39;00m tname \u001b[39min\u001b[39;00m DEFAULT_GLOBALS\n\u001b[0;32m---> 85\u001b[0m \u001b[39mself\u001b[39m\u001b[39m.\u001b[39m_value \u001b[39m=\u001b[39m \u001b[39mself\u001b[39;49m\u001b[39m.\u001b[39;49m_resolve_name()\n\u001b[1;32m     86\u001b[0m \u001b[39mself\u001b[39m\u001b[39m.\u001b[39mencoding \u001b[39m=\u001b[39m encoding\n",
      "File \u001b[0;32m/workspaces/mouse_visual_cortex_NN_modeling/.venv/lib/python3.8/site-packages/pandas/core/computation/ops.py:109\u001b[0m, in \u001b[0;36mTerm._resolve_name\u001b[0;34m(self)\u001b[0m\n\u001b[1;32m    104\u001b[0m \u001b[39mif\u001b[39;00m local_name \u001b[39min\u001b[39;00m \u001b[39mself\u001b[39m\u001b[39m.\u001b[39menv\u001b[39m.\u001b[39mscope \u001b[39mand\u001b[39;00m \u001b[39misinstance\u001b[39m(\n\u001b[1;32m    105\u001b[0m     \u001b[39mself\u001b[39m\u001b[39m.\u001b[39menv\u001b[39m.\u001b[39mscope[local_name], \u001b[39mtype\u001b[39m\n\u001b[1;32m    106\u001b[0m ):\n\u001b[1;32m    107\u001b[0m     is_local \u001b[39m=\u001b[39m \u001b[39mFalse\u001b[39;00m\n\u001b[0;32m--> 109\u001b[0m res \u001b[39m=\u001b[39m \u001b[39mself\u001b[39;49m\u001b[39m.\u001b[39;49menv\u001b[39m.\u001b[39;49mresolve(local_name, is_local\u001b[39m=\u001b[39;49mis_local)\n\u001b[1;32m    110\u001b[0m \u001b[39mself\u001b[39m\u001b[39m.\u001b[39mupdate(res)\n\u001b[1;32m    112\u001b[0m \u001b[39mif\u001b[39;00m \u001b[39mhasattr\u001b[39m(res, \u001b[39m\"\u001b[39m\u001b[39mndim\u001b[39m\u001b[39m\"\u001b[39m) \u001b[39mand\u001b[39;00m res\u001b[39m.\u001b[39mndim \u001b[39m>\u001b[39m \u001b[39m2\u001b[39m:\n",
      "File \u001b[0;32m/workspaces/mouse_visual_cortex_NN_modeling/.venv/lib/python3.8/site-packages/pandas/core/computation/scope.py:211\u001b[0m, in \u001b[0;36mScope.resolve\u001b[0;34m(self, key, is_local)\u001b[0m\n\u001b[1;32m    209\u001b[0m     \u001b[39mreturn\u001b[39;00m \u001b[39mself\u001b[39m\u001b[39m.\u001b[39mtemps[key]\n\u001b[1;32m    210\u001b[0m \u001b[39mexcept\u001b[39;00m \u001b[39mKeyError\u001b[39;00m \u001b[39mas\u001b[39;00m err:\n\u001b[0;32m--> 211\u001b[0m     \u001b[39mraise\u001b[39;00m UndefinedVariableError(key, is_local) \u001b[39mfrom\u001b[39;00m \u001b[39merr\u001b[39;00m\n",
      "\u001b[0;31mUndefinedVariableError\u001b[0m: name 'reliability_nm3' is not defined"
     ]
    }
   ],
   "source": [
    "from allensdk.core.brain_observatory_cache import BrainObservatoryCache\n",
    "import json\n",
    "          \n",
    "filter_json = \"\"\"\n",
    "[\n",
    "    {\n",
    "        \"field\": \"reliability_nm3\",\n",
    "        \"op\": \"between\",\n",
    "        \"value\": [\n",
    "            0.5,\n",
    "            1\n",
    "        ]\n",
    "    },\n",
    "    {\n",
    "        \"field\": \"area\",\n",
    "        \"op\": \"in\",\n",
    "        \"value\": [\n",
    "            \"VISl\"\n",
    "        ]\n",
    "    }\n",
    "]\n",
    "\"\"\"\n",
    "       \n",
    "filters = json.loads(filter_json)\n",
    "         \n",
    "boc = BrainObservatoryCache(manifest_file=\"brain_observatory/manifest.json\")\n",
    "cells = boc.get_cell_specimens(filters=filters)"
   ]
  },
  {
   "cell_type": "code",
   "execution_count": 7,
   "metadata": {},
   "outputs": [],
   "source": [
    "from allensdk.core.brain_observatory_cache import BrainObservatoryCache\n",
    "boc = BrainObservatoryCache(cache= True,manifest_file='../brain_data/brain_observatory_manifest.json')\n",
    "depth = boc.get_all_imaging_depths()\n",
    "all_areas = boc.get_all_targeted_structures()\n",
    "experiments = boc.get_ophys_experiments(targeted_structures=['VISl'],imaging_depths=depth[:5],session_types=['three_session_A'],require_eye_tracking=True,cells)"
   ]
  },
  {
   "cell_type": "code",
   "execution_count": 11,
   "metadata": {},
   "outputs": [
    {
     "name": "stdout",
     "output_type": "stream",
     "text": [
      "three_session_B\n",
      "three_session_A\n",
      "three_session_A\n",
      "three_session_A\n",
      "three_session_C\n",
      "three_session_C2\n",
      "three_session_A\n",
      "three_session_C2\n",
      "OPHYS_4_images_B\n",
      "three_session_B\n",
      "OPHYS_1_images_A\n",
      "three_session_C2\n",
      "three_session_A\n",
      "three_session_C\n",
      "three_session_B\n",
      "three_session_B\n",
      "three_session_B\n",
      "three_session_B\n",
      "OPHYS_1_images_A\n",
      "three_session_C2\n",
      "three_session_A\n",
      "three_session_C2\n",
      "OPHYS_2_images_A_passive\n",
      "three_session_C2\n",
      "OPHYS_5_images_B_passive\n",
      "three_session_A\n",
      "three_session_B\n",
      "OPHYS_2_images_A_passive\n",
      "three_session_B\n",
      "three_session_C2\n",
      "three_session_B\n",
      "three_session_A\n",
      "three_session_B\n",
      "three_session_A\n",
      "three_session_C2\n",
      "three_session_B\n",
      "three_session_A\n",
      "three_session_B\n",
      "three_session_B\n",
      "three_session_B\n",
      "three_session_A\n",
      "three_session_B\n",
      "three_session_B\n",
      "OPHYS_5_images_B_passive\n",
      "three_session_B\n",
      "OPHYS_2_images_A_passive\n",
      "three_session_A\n",
      "OPHYS_5_images_B_passive\n",
      "three_session_A\n",
      "three_session_A\n",
      "three_session_C\n",
      "three_session_A\n",
      "three_session_B\n",
      "three_session_C2\n",
      "OPHYS_1_images_A\n",
      "three_session_C2\n",
      "three_session_A\n",
      "three_session_A\n",
      "three_session_A\n",
      "three_session_C2\n",
      "three_session_C2\n",
      "three_session_A\n",
      "three_session_B\n",
      "three_session_C\n",
      "three_session_A\n",
      "three_session_A\n",
      "three_session_C2\n",
      "OPHYS_1_images_A\n",
      "three_session_C2\n",
      "three_session_A\n",
      "three_session_A\n",
      "three_session_C2\n",
      "OPHYS_3_images_A\n",
      "three_session_C2\n",
      "three_session_B\n",
      "OPHYS_5_images_B_passive\n",
      "three_session_C2\n",
      "three_session_B\n",
      "three_session_C2\n",
      "three_session_B\n",
      "three_session_B\n",
      "three_session_B\n",
      "OPHYS_2_images_A_passive\n",
      "three_session_C2\n",
      "three_session_B\n",
      "three_session_C2\n",
      "three_session_A\n",
      "three_session_A\n",
      "three_session_C2\n"
     ]
    }
   ],
   "source": [
    "for e in experiments:\n",
    "    print(e['session_type'])"
   ]
  },
  {
   "cell_type": "code",
   "execution_count": 12,
   "metadata": {},
   "outputs": [
    {
     "data": {
      "text/plain": [
       "['drifting_gratings',\n",
       " 'locally_sparse_noise',\n",
       " 'locally_sparse_noise_4deg',\n",
       " 'locally_sparse_noise_8deg',\n",
       " 'natural_movie_one',\n",
       " 'natural_movie_three',\n",
       " 'natural_movie_two',\n",
       " 'natural_scenes',\n",
       " 'spontaneous',\n",
       " 'static_gratings']"
      ]
     },
     "execution_count": 12,
     "metadata": {},
     "output_type": "execute_result"
    }
   ],
   "source": [
    "boc.get_all_stimuli()"
   ]
  },
  {
   "cell_type": "code",
   "execution_count": 5,
   "metadata": {},
   "outputs": [
    {
     "data": {
      "text/plain": [
       "564425775"
      ]
     },
     "execution_count": 5,
     "metadata": {},
     "output_type": "execute_result"
    }
   ],
   "source": [
    "boc.get cotainers[0]['id']"
   ]
  },
  {
   "cell_type": "code",
   "execution_count": 4,
   "metadata": {},
   "outputs": [
    {
     "ename": "KeyboardInterrupt",
     "evalue": "",
     "output_type": "error",
     "traceback": [
      "\u001b[1;31m---------------------------------------------------------------------------\u001b[0m",
      "\u001b[1;31mKeyboardInterrupt\u001b[0m                         Traceback (most recent call last)",
      "\u001b[1;32mc:\\Users\\Mohammad reza\\Documents\\term 1401-2\\modeling mouse visual\\encoding.ipynb Cell 4\u001b[0m line \u001b[0;36m8\n\u001b[0;32m      <a href='vscode-notebook-cell:/c%3A/Users/Mohammad%20reza/Documents/term%201401-2/modeling%20mouse%20visual/encoding.ipynb#W3sZmlsZQ%3D%3D?line=5'>6</a>\u001b[0m nwb \u001b[39m=\u001b[39m boc\u001b[39m.\u001b[39mget_ophys_experiment_data(ophys_experiment_id\u001b[39m=\u001b[39mexperiment_id)\n\u001b[0;32m      <a href='vscode-notebook-cell:/c%3A/Users/Mohammad%20reza/Documents/term%201401-2/modeling%20mouse%20visual/encoding.ipynb#W3sZmlsZQ%3D%3D?line=6'>7</a>\u001b[0m num_cells \u001b[39m=\u001b[39m \u001b[39mlen\u001b[39m(nwb\u001b[39m.\u001b[39mget_cell_specimen_ids())\n\u001b[1;32m----> <a href='vscode-notebook-cell:/c%3A/Users/Mohammad%20reza/Documents/term%201401-2/modeling%20mouse%20visual/encoding.ipynb#W3sZmlsZQ%3D%3D?line=7'>8</a>\u001b[0m targeted_cells \u001b[39m=\u001b[39m \u001b[39mfilter\u001b[39;49m(nwb\u001b[39m=\u001b[39;49m nwb,train_reliability\u001b[39m=\u001b[39;49m\u001b[39m0.5\u001b[39;49m,test_reliability\u001b[39m=\u001b[39;49m\u001b[39m0.3\u001b[39;49m)\n\u001b[0;32m      <a href='vscode-notebook-cell:/c%3A/Users/Mohammad%20reza/Documents/term%201401-2/modeling%20mouse%20visual/encoding.ipynb#W3sZmlsZQ%3D%3D?line=8'>9</a>\u001b[0m train_movie \u001b[39m=\u001b[39m nwb\u001b[39m.\u001b[39mget_stimulus_template(\u001b[39m'\u001b[39m\u001b[39mnatural_movie_three\u001b[39m\u001b[39m'\u001b[39m)\n\u001b[0;32m     <a href='vscode-notebook-cell:/c%3A/Users/Mohammad%20reza/Documents/term%201401-2/modeling%20mouse%20visual/encoding.ipynb#W3sZmlsZQ%3D%3D?line=9'>10</a>\u001b[0m train_movie \u001b[39m=\u001b[39m np\u001b[39m.\u001b[39mexpand_dims(train_movie,axis \u001b[39m=\u001b[39m \u001b[39m3\u001b[39m)\n",
      "File \u001b[1;32mc:\\Users\\Mohammad reza\\Documents\\term 1401-2\\modeling mouse visual\\filter_cells.py:31\u001b[0m, in \u001b[0;36mfilter\u001b[1;34m(nwb, train_reliability, test_reliability)\u001b[0m\n\u001b[0;32m     29\u001b[0m filters[\u001b[39m1\u001b[39m][\u001b[39m'\u001b[39m\u001b[39mvalue\u001b[39m\u001b[39m'\u001b[39m] \u001b[39m=\u001b[39m [train_reliability,\u001b[39m1\u001b[39m]\n\u001b[0;32m     30\u001b[0m cells \u001b[39m=\u001b[39m nwb\u001b[39m.\u001b[39mget_cell_specimen_ids()\n\u001b[1;32m---> 31\u001b[0m filtered_cells \u001b[39m=\u001b[39m boc\u001b[39m.\u001b[39;49mget_cell_specimens(filters\u001b[39m=\u001b[39;49mfilters,ids\u001b[39m=\u001b[39;49m cells)\n\u001b[0;32m     32\u001b[0m targeted_cells_ids \u001b[39m=\u001b[39m [cell[\u001b[39m'\u001b[39m\u001b[39mcell_specimen_id\u001b[39m\u001b[39m'\u001b[39m] \u001b[39mfor\u001b[39;00m cell \u001b[39min\u001b[39;00m filtered_cells]\n\u001b[0;32m     33\u001b[0m targeted_cells \u001b[39m=\u001b[39m nwb\u001b[39m.\u001b[39mget_cell_specimen_indices(ids \u001b[39m=\u001b[39m targeted_cells_ids)\n",
      "File \u001b[1;32m~\\AppData\\Roaming\\Python\\Python38\\site-packages\\allensdk\\core\\brain_observatory_cache.py:489\u001b[0m, in \u001b[0;36mBrainObservatoryCache.get_cell_specimens\u001b[1;34m(self, file_name, ids, experiment_container_ids, include_failed, simple, filters)\u001b[0m\n\u001b[0;32m    439\u001b[0m \u001b[39m\u001b[39m\u001b[39m\"\"\"Return cell specimens that have certain properies.\u001b[39;00m\n\u001b[0;32m    440\u001b[0m \n\u001b[0;32m    441\u001b[0m \u001b[39mParameters\u001b[39;00m\n\u001b[1;32m   (...)\u001b[0m\n\u001b[0;32m    484\u001b[0m \u001b[39mlist of dictionaries\u001b[39;00m\n\u001b[0;32m    485\u001b[0m \u001b[39m\"\"\"\u001b[39;00m\n\u001b[0;32m    487\u001b[0m file_name \u001b[39m=\u001b[39m \u001b[39mself\u001b[39m\u001b[39m.\u001b[39mget_cache_path(file_name, \u001b[39mself\u001b[39m\u001b[39m.\u001b[39mCELL_SPECIMENS_KEY)\n\u001b[1;32m--> 489\u001b[0m cell_specimens \u001b[39m=\u001b[39m \u001b[39mself\u001b[39;49m\u001b[39m.\u001b[39;49mapi\u001b[39m.\u001b[39;49mget_cell_metrics(\n\u001b[0;32m    490\u001b[0m     path\u001b[39m=\u001b[39;49mfile_name,\n\u001b[0;32m    491\u001b[0m     strategy\u001b[39m=\u001b[39;49m\u001b[39m\"\u001b[39;49m\u001b[39mlazy\u001b[39;49m\u001b[39m\"\u001b[39;49m,\n\u001b[0;32m    492\u001b[0m     pre\u001b[39m=\u001b[39;49m\u001b[39mlambda\u001b[39;49;00m x: [y \u001b[39mfor\u001b[39;49;00m y \u001b[39min\u001b[39;49;00m x],\n\u001b[0;32m    493\u001b[0m     \u001b[39m*\u001b[39;49m\u001b[39m*\u001b[39;49mCache\u001b[39m.\u001b[39;49mcache_json(),\n\u001b[0;32m    494\u001b[0m )\n\u001b[0;32m    496\u001b[0m cell_specimens \u001b[39m=\u001b[39m \u001b[39mself\u001b[39m\u001b[39m.\u001b[39mapi\u001b[39m.\u001b[39mfilter_cell_specimens(\n\u001b[0;32m    497\u001b[0m     cell_specimens,\n\u001b[0;32m    498\u001b[0m     ids\u001b[39m=\u001b[39mids,\n\u001b[1;32m   (...)\u001b[0m\n\u001b[0;32m    501\u001b[0m     filters\u001b[39m=\u001b[39mfilters,\n\u001b[0;32m    502\u001b[0m )\n\u001b[0;32m    504\u001b[0m \u001b[39m# drop the thumbnail columns\u001b[39;00m\n",
      "File \u001b[1;32m~\\AppData\\Roaming\\Python\\Python38\\site-packages\\allensdk\\api\\warehouse_cache\\cache.py:661\u001b[0m, in \u001b[0;36mcacheable.<locals>.decor.<locals>.w\u001b[1;34m(*args, **kwargs)\u001b[0m\n\u001b[0;32m    658\u001b[0m \u001b[39mif\u001b[39;00m decor\u001b[39m.\u001b[39mpost \u001b[39mand\u001b[39;00m \u001b[39mnot\u001b[39;00m \u001b[39m'\u001b[39m\u001b[39mpost in kwargs\u001b[39m\u001b[39m'\u001b[39m:\n\u001b[0;32m    659\u001b[0m     kwargs[\u001b[39m'\u001b[39m\u001b[39mpost\u001b[39m\u001b[39m'\u001b[39m] \u001b[39m=\u001b[39m decor\u001b[39m.\u001b[39mpost\n\u001b[1;32m--> 661\u001b[0m result \u001b[39m=\u001b[39m Cache\u001b[39m.\u001b[39;49mcacher(func,\n\u001b[0;32m    662\u001b[0m                       \u001b[39m*\u001b[39;49margs,\n\u001b[0;32m    663\u001b[0m                       \u001b[39m*\u001b[39;49m\u001b[39m*\u001b[39;49mkwargs)\n\u001b[0;32m    664\u001b[0m \u001b[39mreturn\u001b[39;00m result\n",
      "File \u001b[1;32m~\\AppData\\Roaming\\Python\\Python38\\site-packages\\allensdk\\api\\warehouse_cache\\cache.py:384\u001b[0m, in \u001b[0;36mCache.cacher\u001b[1;34m(fn, *args, **kwargs)\u001b[0m\n\u001b[0;32m    382\u001b[0m \u001b[39mif\u001b[39;00m writer:\n\u001b[0;32m    383\u001b[0m     data \u001b[39m=\u001b[39m fn(\u001b[39m*\u001b[39margs, \u001b[39m*\u001b[39m\u001b[39m*\u001b[39mkwargs)\n\u001b[1;32m--> 384\u001b[0m     data \u001b[39m=\u001b[39m pre(data)\n\u001b[0;32m    385\u001b[0m     writer(path, data)\n\u001b[0;32m    386\u001b[0m \u001b[39melse\u001b[39;00m:\n",
      "File \u001b[1;32m~\\AppData\\Roaming\\Python\\Python38\\site-packages\\allensdk\\core\\brain_observatory_cache.py:492\u001b[0m, in \u001b[0;36mBrainObservatoryCache.get_cell_specimens.<locals>.<lambda>\u001b[1;34m(x)\u001b[0m\n\u001b[0;32m    439\u001b[0m \u001b[39m\u001b[39m\u001b[39m\"\"\"Return cell specimens that have certain properies.\u001b[39;00m\n\u001b[0;32m    440\u001b[0m \n\u001b[0;32m    441\u001b[0m \u001b[39mParameters\u001b[39;00m\n\u001b[1;32m   (...)\u001b[0m\n\u001b[0;32m    484\u001b[0m \u001b[39mlist of dictionaries\u001b[39;00m\n\u001b[0;32m    485\u001b[0m \u001b[39m\"\"\"\u001b[39;00m\n\u001b[0;32m    487\u001b[0m file_name \u001b[39m=\u001b[39m \u001b[39mself\u001b[39m\u001b[39m.\u001b[39mget_cache_path(file_name, \u001b[39mself\u001b[39m\u001b[39m.\u001b[39mCELL_SPECIMENS_KEY)\n\u001b[0;32m    489\u001b[0m cell_specimens \u001b[39m=\u001b[39m \u001b[39mself\u001b[39m\u001b[39m.\u001b[39mapi\u001b[39m.\u001b[39mget_cell_metrics(\n\u001b[0;32m    490\u001b[0m     path\u001b[39m=\u001b[39mfile_name,\n\u001b[0;32m    491\u001b[0m     strategy\u001b[39m=\u001b[39m\u001b[39m\"\u001b[39m\u001b[39mlazy\u001b[39m\u001b[39m\"\u001b[39m,\n\u001b[1;32m--> 492\u001b[0m     pre\u001b[39m=\u001b[39m\u001b[39mlambda\u001b[39;00m x: [y \u001b[39mfor\u001b[39;00m y \u001b[39min\u001b[39;00m x],\n\u001b[0;32m    493\u001b[0m     \u001b[39m*\u001b[39m\u001b[39m*\u001b[39mCache\u001b[39m.\u001b[39mcache_json(),\n\u001b[0;32m    494\u001b[0m )\n\u001b[0;32m    496\u001b[0m cell_specimens \u001b[39m=\u001b[39m \u001b[39mself\u001b[39m\u001b[39m.\u001b[39mapi\u001b[39m.\u001b[39mfilter_cell_specimens(\n\u001b[0;32m    497\u001b[0m     cell_specimens,\n\u001b[0;32m    498\u001b[0m     ids\u001b[39m=\u001b[39mids,\n\u001b[1;32m   (...)\u001b[0m\n\u001b[0;32m    501\u001b[0m     filters\u001b[39m=\u001b[39mfilters,\n\u001b[0;32m    502\u001b[0m )\n\u001b[0;32m    504\u001b[0m \u001b[39m# drop the thumbnail columns\u001b[39;00m\n",
      "File \u001b[1;32m~\\AppData\\Roaming\\Python\\Python38\\site-packages\\allensdk\\core\\brain_observatory_cache.py:492\u001b[0m, in \u001b[0;36m<listcomp>\u001b[1;34m(.0)\u001b[0m\n\u001b[0;32m    439\u001b[0m \u001b[39m\u001b[39m\u001b[39m\"\"\"Return cell specimens that have certain properies.\u001b[39;00m\n\u001b[0;32m    440\u001b[0m \n\u001b[0;32m    441\u001b[0m \u001b[39mParameters\u001b[39;00m\n\u001b[1;32m   (...)\u001b[0m\n\u001b[0;32m    484\u001b[0m \u001b[39mlist of dictionaries\u001b[39;00m\n\u001b[0;32m    485\u001b[0m \u001b[39m\"\"\"\u001b[39;00m\n\u001b[0;32m    487\u001b[0m file_name \u001b[39m=\u001b[39m \u001b[39mself\u001b[39m\u001b[39m.\u001b[39mget_cache_path(file_name, \u001b[39mself\u001b[39m\u001b[39m.\u001b[39mCELL_SPECIMENS_KEY)\n\u001b[0;32m    489\u001b[0m cell_specimens \u001b[39m=\u001b[39m \u001b[39mself\u001b[39m\u001b[39m.\u001b[39mapi\u001b[39m.\u001b[39mget_cell_metrics(\n\u001b[0;32m    490\u001b[0m     path\u001b[39m=\u001b[39mfile_name,\n\u001b[0;32m    491\u001b[0m     strategy\u001b[39m=\u001b[39m\u001b[39m\"\u001b[39m\u001b[39mlazy\u001b[39m\u001b[39m\"\u001b[39m,\n\u001b[1;32m--> 492\u001b[0m     pre\u001b[39m=\u001b[39m\u001b[39mlambda\u001b[39;00m x: [y \u001b[39mfor\u001b[39;00m y \u001b[39min\u001b[39;00m x],\n\u001b[0;32m    493\u001b[0m     \u001b[39m*\u001b[39m\u001b[39m*\u001b[39mCache\u001b[39m.\u001b[39mcache_json(),\n\u001b[0;32m    494\u001b[0m )\n\u001b[0;32m    496\u001b[0m cell_specimens \u001b[39m=\u001b[39m \u001b[39mself\u001b[39m\u001b[39m.\u001b[39mapi\u001b[39m.\u001b[39mfilter_cell_specimens(\n\u001b[0;32m    497\u001b[0m     cell_specimens,\n\u001b[0;32m    498\u001b[0m     ids\u001b[39m=\u001b[39mids,\n\u001b[1;32m   (...)\u001b[0m\n\u001b[0;32m    501\u001b[0m     filters\u001b[39m=\u001b[39mfilters,\n\u001b[0;32m    502\u001b[0m )\n\u001b[0;32m    504\u001b[0m \u001b[39m# drop the thumbnail columns\u001b[39;00m\n",
      "File \u001b[1;32m~\\AppData\\Roaming\\Python\\Python38\\site-packages\\allensdk\\api\\queries\\rma_pager.py:58\u001b[0m, in \u001b[0;36mRmaPager.pager\u001b[1;34m(fn, *args, **kwargs)\u001b[0m\n\u001b[0;32m     56\u001b[0m \u001b[39mwhile\u001b[39;00m result_count \u001b[39m==\u001b[39m num_rows:\n\u001b[0;32m     57\u001b[0m     kwargs[\u001b[39m'\u001b[39m\u001b[39mstart_row\u001b[39m\u001b[39m'\u001b[39m] \u001b[39m=\u001b[39m start_row\n\u001b[1;32m---> 58\u001b[0m     data \u001b[39m=\u001b[39m fn(\u001b[39m*\u001b[39;49margs, \u001b[39m*\u001b[39;49m\u001b[39m*\u001b[39;49mkwargs)\n\u001b[0;32m     60\u001b[0m     start_row \u001b[39m=\u001b[39m start_row \u001b[39m+\u001b[39m num_rows\n\u001b[0;32m     61\u001b[0m     result_count \u001b[39m=\u001b[39m \u001b[39mlen\u001b[39m(data)\n",
      "File \u001b[1;32m~\\AppData\\Roaming\\Python\\Python38\\site-packages\\allensdk\\api\\queries\\brain_observatory_api.py:359\u001b[0m, in \u001b[0;36mBrainObservatoryApi.get_cell_metrics\u001b[1;34m(self, cell_specimen_ids, *args, **kwargs)\u001b[0m\n\u001b[0;32m    345\u001b[0m \u001b[39m\u001b[39m\u001b[39m\"\"\"Get cell metrics by id\u001b[39;00m\n\u001b[0;32m    346\u001b[0m \n\u001b[0;32m    347\u001b[0m \u001b[39mParameters\u001b[39;00m\n\u001b[1;32m   (...)\u001b[0m\n\u001b[0;32m    354\u001b[0m \u001b[39mdict : cell metric metadata\u001b[39;00m\n\u001b[0;32m    355\u001b[0m \u001b[39m\"\"\"\u001b[39;00m\n\u001b[0;32m    357\u001b[0m order \u001b[39m=\u001b[39m kwargs\u001b[39m.\u001b[39mpop(\u001b[39m\"\u001b[39m\u001b[39morder\u001b[39m\u001b[39m\"\u001b[39m, [\u001b[39m\"\u001b[39m\u001b[39m'\u001b[39m\u001b[39mcell_specimen_id\u001b[39m\u001b[39m'\u001b[39m\u001b[39m\"\u001b[39m])\n\u001b[1;32m--> 359\u001b[0m data \u001b[39m=\u001b[39m \u001b[39mself\u001b[39;49m\u001b[39m.\u001b[39;49mtemplate_query(\n\u001b[0;32m    360\u001b[0m     \u001b[39m\"\u001b[39;49m\u001b[39mbrain_observatory_queries\u001b[39;49m\u001b[39m\"\u001b[39;49m,\n\u001b[0;32m    361\u001b[0m     \u001b[39m\"\u001b[39;49m\u001b[39mcell_metric\u001b[39;49m\u001b[39m\"\u001b[39;49m,\n\u001b[0;32m    362\u001b[0m     cell_specimen_ids\u001b[39m=\u001b[39;49mcell_specimen_ids,\n\u001b[0;32m    363\u001b[0m     order\u001b[39m=\u001b[39;49morder,\n\u001b[0;32m    364\u001b[0m     \u001b[39m*\u001b[39;49margs,\n\u001b[0;32m    365\u001b[0m     \u001b[39m*\u001b[39;49m\u001b[39m*\u001b[39;49mkwargs,\n\u001b[0;32m    366\u001b[0m )\n\u001b[0;32m    368\u001b[0m \u001b[39mreturn\u001b[39;00m data\n",
      "File \u001b[1;32m~\\AppData\\Roaming\\Python\\Python38\\site-packages\\allensdk\\api\\queries\\rma_template.py:132\u001b[0m, in \u001b[0;36mRmaTemplate.template_query\u001b[1;34m(self, template_name, entry_name, **kwargs)\u001b[0m\n\u001b[0;32m    128\u001b[0m     query_args[\u001b[39m'\u001b[39m\u001b[39morder\u001b[39m\u001b[39m'\u001b[39m] \u001b[39m=\u001b[39m template[\u001b[39m'\u001b[39m\u001b[39morder\u001b[39m\u001b[39m'\u001b[39m]\n\u001b[0;32m    130\u001b[0m query_args\u001b[39m.\u001b[39mupdate(kwargs)\n\u001b[1;32m--> 132\u001b[0m data \u001b[39m=\u001b[39m \u001b[39mself\u001b[39;49m\u001b[39m.\u001b[39;49mmodel_query(\u001b[39m*\u001b[39;49m\u001b[39m*\u001b[39;49mquery_args)\n\u001b[0;32m    134\u001b[0m \u001b[39mreturn\u001b[39;00m data\n",
      "File \u001b[1;32m~\\AppData\\Roaming\\Python\\Python38\\site-packages\\allensdk\\api\\queries\\rma_api.py:257\u001b[0m, in \u001b[0;36mRmaApi.model_query\u001b[1;34m(self, *args, **kwargs)\u001b[0m\n\u001b[0;32m    217\u001b[0m \u001b[39mdef\u001b[39;00m \u001b[39mmodel_query\u001b[39m(\u001b[39mself\u001b[39m, \u001b[39m*\u001b[39margs, \u001b[39m*\u001b[39m\u001b[39m*\u001b[39mkwargs):\n\u001b[0;32m    218\u001b[0m \u001b[39m    \u001b[39m\u001b[39m'''Construct and execute a model stage of an RMA query string.\u001b[39;00m\n\u001b[0;32m    219\u001b[0m \n\u001b[0;32m    220\u001b[0m \u001b[39m    Parameters\u001b[39;00m\n\u001b[1;32m   (...)\u001b[0m\n\u001b[0;32m    255\u001b[0m \u001b[39m    response, including the normalized query.\u001b[39;00m\n\u001b[0;32m    256\u001b[0m \u001b[39m    '''\u001b[39;00m\n\u001b[1;32m--> 257\u001b[0m     \u001b[39mreturn\u001b[39;00m \u001b[39mself\u001b[39;49m\u001b[39m.\u001b[39;49mjson_msg_query(\n\u001b[0;32m    258\u001b[0m         \u001b[39mself\u001b[39;49m\u001b[39m.\u001b[39;49mbuild_query_url(\n\u001b[0;32m    259\u001b[0m             \u001b[39mself\u001b[39;49m\u001b[39m.\u001b[39;49mmodel_stage(\u001b[39m*\u001b[39;49margs, \u001b[39m*\u001b[39;49m\u001b[39m*\u001b[39;49mkwargs)))\n",
      "File \u001b[1;32m~\\AppData\\Roaming\\Python\\Python38\\site-packages\\allensdk\\api\\api.py:164\u001b[0m, in \u001b[0;36mApi.json_msg_query\u001b[1;34m(self, url, dataframe)\u001b[0m\n\u001b[0;32m    147\u001b[0m \u001b[39mdef\u001b[39;00m \u001b[39mjson_msg_query\u001b[39m(\u001b[39mself\u001b[39m, url, dataframe\u001b[39m=\u001b[39m\u001b[39mFalse\u001b[39;00m):\n\u001b[0;32m    148\u001b[0m \u001b[39m    \u001b[39m\u001b[39m''' Common case where the url is fully constructed\u001b[39;00m\n\u001b[0;32m    149\u001b[0m \u001b[39m        and the response data is stored in the 'msg' field.\u001b[39;00m\n\u001b[0;32m    150\u001b[0m \n\u001b[1;32m   (...)\u001b[0m\n\u001b[0;32m    161\u001b[0m \u001b[39m        returned data; type depends on dataframe option\u001b[39;00m\n\u001b[0;32m    162\u001b[0m \u001b[39m    '''\u001b[39;00m\n\u001b[1;32m--> 164\u001b[0m     data \u001b[39m=\u001b[39m \u001b[39mself\u001b[39;49m\u001b[39m.\u001b[39;49mdo_query(\u001b[39mlambda\u001b[39;49;00m \u001b[39m*\u001b[39;49ma, \u001b[39m*\u001b[39;49m\u001b[39m*\u001b[39;49mk: url,\n\u001b[0;32m    165\u001b[0m                          \u001b[39mself\u001b[39;49m\u001b[39m.\u001b[39;49mread_data)\n\u001b[0;32m    167\u001b[0m     \u001b[39mif\u001b[39;00m dataframe \u001b[39mis\u001b[39;00m \u001b[39mTrue\u001b[39;00m:\n\u001b[0;32m    168\u001b[0m         warnings\u001b[39m.\u001b[39mwarn(\u001b[39m\"\u001b[39m\u001b[39mdataframe argument is deprecated\u001b[39m\u001b[39m\"\u001b[39m, \u001b[39mDeprecationWarning\u001b[39;00m)\n",
      "File \u001b[1;32m~\\AppData\\Roaming\\Python\\Python38\\site-packages\\allensdk\\api\\api.py:204\u001b[0m, in \u001b[0;36mApi.do_query\u001b[1;34m(self, url_builder_fn, json_traversal_fn, *args, **kwargs)\u001b[0m\n\u001b[0;32m    200\u001b[0m api_url \u001b[39m=\u001b[39m url_builder_fn(\u001b[39m*\u001b[39margs, \u001b[39m*\u001b[39m\u001b[39m*\u001b[39mkwargs)\n\u001b[0;32m    202\u001b[0m post \u001b[39m=\u001b[39m kwargs\u001b[39m.\u001b[39mget(\u001b[39m'\u001b[39m\u001b[39mpost\u001b[39m\u001b[39m'\u001b[39m, \u001b[39mFalse\u001b[39;00m)\n\u001b[1;32m--> 204\u001b[0m json_parsed_data \u001b[39m=\u001b[39m \u001b[39mself\u001b[39;49m\u001b[39m.\u001b[39;49mretrieve_parsed_json_over_http(api_url, post)\n\u001b[0;32m    206\u001b[0m \u001b[39mreturn\u001b[39;00m json_traversal_fn(json_parsed_data)\n",
      "File \u001b[1;32m~\\AppData\\Roaming\\Python\\Python38\\site-packages\\allensdk\\api\\api.py:369\u001b[0m, in \u001b[0;36mApi.retrieve_parsed_json_over_http\u001b[1;34m(self, url, post)\u001b[0m\n\u001b[0;32m    366\u001b[0m \u001b[39mself\u001b[39m\u001b[39m.\u001b[39m_log\u001b[39m.\u001b[39minfo(\u001b[39m\"\u001b[39m\u001b[39mDownloading URL: \u001b[39m\u001b[39m%s\u001b[39;00m\u001b[39m\"\u001b[39m, url)\n\u001b[0;32m    368\u001b[0m \u001b[39mif\u001b[39;00m post \u001b[39mis\u001b[39;00m \u001b[39mFalse\u001b[39;00m:\n\u001b[1;32m--> 369\u001b[0m     data \u001b[39m=\u001b[39m json_utilities\u001b[39m.\u001b[39;49mread_url_get(\n\u001b[0;32m    370\u001b[0m         requests\u001b[39m.\u001b[39;49mutils\u001b[39m.\u001b[39;49mquote(url,\n\u001b[0;32m    371\u001b[0m                              \u001b[39m'\u001b[39;49m\u001b[39m;/?:@&=+$,\u001b[39;49m\u001b[39m'\u001b[39;49m))\n\u001b[0;32m    372\u001b[0m \u001b[39melse\u001b[39;00m:\n\u001b[0;32m    373\u001b[0m     data \u001b[39m=\u001b[39m json_utilities\u001b[39m.\u001b[39mread_url_post(url)\n",
      "File \u001b[1;32m~\\AppData\\Roaming\\Python\\Python38\\site-packages\\allensdk\\core\\json_utilities.py:109\u001b[0m, in \u001b[0;36mread_url_get\u001b[1;34m(url)\u001b[0m\n\u001b[0;32m     92\u001b[0m \u001b[39mdef\u001b[39;00m \u001b[39mread_url_get\u001b[39m(url):\n\u001b[0;32m     93\u001b[0m \u001b[39m    \u001b[39m\u001b[39m'''Transform a JSON contained in a file into an equivalent\u001b[39;00m\n\u001b[0;32m     94\u001b[0m \u001b[39m    nested python dict.\u001b[39;00m\n\u001b[0;32m     95\u001b[0m \n\u001b[1;32m   (...)\u001b[0m\n\u001b[0;32m    107\u001b[0m \u001b[39m    the output will be of the corresponding type.\u001b[39;00m\n\u001b[0;32m    108\u001b[0m \u001b[39m    '''\u001b[39;00m\n\u001b[1;32m--> 109\u001b[0m     response \u001b[39m=\u001b[39m urllib_request\u001b[39m.\u001b[39;49murlopen(url)\n\u001b[0;32m    110\u001b[0m     json_string \u001b[39m=\u001b[39m response\u001b[39m.\u001b[39mread()\u001b[39m.\u001b[39mdecode(\u001b[39m'\u001b[39m\u001b[39mutf-8\u001b[39m\u001b[39m'\u001b[39m)\n\u001b[0;32m    112\u001b[0m     \u001b[39mreturn\u001b[39;00m json\u001b[39m.\u001b[39mloads(json_string)\n",
      "File \u001b[1;32mc:\\Users\\Mohammad reza\\miniconda3\\lib\\urllib\\request.py:222\u001b[0m, in \u001b[0;36murlopen\u001b[1;34m(url, data, timeout, cafile, capath, cadefault, context)\u001b[0m\n\u001b[0;32m    220\u001b[0m \u001b[39melse\u001b[39;00m:\n\u001b[0;32m    221\u001b[0m     opener \u001b[39m=\u001b[39m _opener\n\u001b[1;32m--> 222\u001b[0m \u001b[39mreturn\u001b[39;00m opener\u001b[39m.\u001b[39;49mopen(url, data, timeout)\n",
      "File \u001b[1;32mc:\\Users\\Mohammad reza\\miniconda3\\lib\\urllib\\request.py:525\u001b[0m, in \u001b[0;36mOpenerDirector.open\u001b[1;34m(self, fullurl, data, timeout)\u001b[0m\n\u001b[0;32m    522\u001b[0m     req \u001b[39m=\u001b[39m meth(req)\n\u001b[0;32m    524\u001b[0m sys\u001b[39m.\u001b[39maudit(\u001b[39m'\u001b[39m\u001b[39murllib.Request\u001b[39m\u001b[39m'\u001b[39m, req\u001b[39m.\u001b[39mfull_url, req\u001b[39m.\u001b[39mdata, req\u001b[39m.\u001b[39mheaders, req\u001b[39m.\u001b[39mget_method())\n\u001b[1;32m--> 525\u001b[0m response \u001b[39m=\u001b[39m \u001b[39mself\u001b[39;49m\u001b[39m.\u001b[39;49m_open(req, data)\n\u001b[0;32m    527\u001b[0m \u001b[39m# post-process response\u001b[39;00m\n\u001b[0;32m    528\u001b[0m meth_name \u001b[39m=\u001b[39m protocol\u001b[39m+\u001b[39m\u001b[39m\"\u001b[39m\u001b[39m_response\u001b[39m\u001b[39m\"\u001b[39m\n",
      "File \u001b[1;32mc:\\Users\\Mohammad reza\\miniconda3\\lib\\urllib\\request.py:542\u001b[0m, in \u001b[0;36mOpenerDirector._open\u001b[1;34m(self, req, data)\u001b[0m\n\u001b[0;32m    539\u001b[0m     \u001b[39mreturn\u001b[39;00m result\n\u001b[0;32m    541\u001b[0m protocol \u001b[39m=\u001b[39m req\u001b[39m.\u001b[39mtype\n\u001b[1;32m--> 542\u001b[0m result \u001b[39m=\u001b[39m \u001b[39mself\u001b[39;49m\u001b[39m.\u001b[39;49m_call_chain(\u001b[39mself\u001b[39;49m\u001b[39m.\u001b[39;49mhandle_open, protocol, protocol \u001b[39m+\u001b[39;49m\n\u001b[0;32m    543\u001b[0m                           \u001b[39m'\u001b[39;49m\u001b[39m_open\u001b[39;49m\u001b[39m'\u001b[39;49m, req)\n\u001b[0;32m    544\u001b[0m \u001b[39mif\u001b[39;00m result:\n\u001b[0;32m    545\u001b[0m     \u001b[39mreturn\u001b[39;00m result\n",
      "File \u001b[1;32mc:\\Users\\Mohammad reza\\miniconda3\\lib\\urllib\\request.py:502\u001b[0m, in \u001b[0;36mOpenerDirector._call_chain\u001b[1;34m(self, chain, kind, meth_name, *args)\u001b[0m\n\u001b[0;32m    500\u001b[0m \u001b[39mfor\u001b[39;00m handler \u001b[39min\u001b[39;00m handlers:\n\u001b[0;32m    501\u001b[0m     func \u001b[39m=\u001b[39m \u001b[39mgetattr\u001b[39m(handler, meth_name)\n\u001b[1;32m--> 502\u001b[0m     result \u001b[39m=\u001b[39m func(\u001b[39m*\u001b[39;49margs)\n\u001b[0;32m    503\u001b[0m     \u001b[39mif\u001b[39;00m result \u001b[39mis\u001b[39;00m \u001b[39mnot\u001b[39;00m \u001b[39mNone\u001b[39;00m:\n\u001b[0;32m    504\u001b[0m         \u001b[39mreturn\u001b[39;00m result\n",
      "File \u001b[1;32mc:\\Users\\Mohammad reza\\miniconda3\\lib\\urllib\\request.py:1383\u001b[0m, in \u001b[0;36mHTTPHandler.http_open\u001b[1;34m(self, req)\u001b[0m\n\u001b[0;32m   1382\u001b[0m \u001b[39mdef\u001b[39;00m \u001b[39mhttp_open\u001b[39m(\u001b[39mself\u001b[39m, req):\n\u001b[1;32m-> 1383\u001b[0m     \u001b[39mreturn\u001b[39;00m \u001b[39mself\u001b[39;49m\u001b[39m.\u001b[39;49mdo_open(http\u001b[39m.\u001b[39;49mclient\u001b[39m.\u001b[39;49mHTTPConnection, req)\n",
      "File \u001b[1;32mc:\\Users\\Mohammad reza\\miniconda3\\lib\\urllib\\request.py:1358\u001b[0m, in \u001b[0;36mAbstractHTTPHandler.do_open\u001b[1;34m(self, http_class, req, **http_conn_args)\u001b[0m\n\u001b[0;32m   1356\u001b[0m     \u001b[39mexcept\u001b[39;00m \u001b[39mOSError\u001b[39;00m \u001b[39mas\u001b[39;00m err: \u001b[39m# timeout error\u001b[39;00m\n\u001b[0;32m   1357\u001b[0m         \u001b[39mraise\u001b[39;00m URLError(err)\n\u001b[1;32m-> 1358\u001b[0m     r \u001b[39m=\u001b[39m h\u001b[39m.\u001b[39;49mgetresponse()\n\u001b[0;32m   1359\u001b[0m \u001b[39mexcept\u001b[39;00m:\n\u001b[0;32m   1360\u001b[0m     h\u001b[39m.\u001b[39mclose()\n",
      "File \u001b[1;32mc:\\Users\\Mohammad reza\\miniconda3\\lib\\http\\client.py:1348\u001b[0m, in \u001b[0;36mHTTPConnection.getresponse\u001b[1;34m(self)\u001b[0m\n\u001b[0;32m   1346\u001b[0m \u001b[39mtry\u001b[39;00m:\n\u001b[0;32m   1347\u001b[0m     \u001b[39mtry\u001b[39;00m:\n\u001b[1;32m-> 1348\u001b[0m         response\u001b[39m.\u001b[39;49mbegin()\n\u001b[0;32m   1349\u001b[0m     \u001b[39mexcept\u001b[39;00m \u001b[39mConnectionError\u001b[39;00m:\n\u001b[0;32m   1350\u001b[0m         \u001b[39mself\u001b[39m\u001b[39m.\u001b[39mclose()\n",
      "File \u001b[1;32mc:\\Users\\Mohammad reza\\miniconda3\\lib\\http\\client.py:316\u001b[0m, in \u001b[0;36mHTTPResponse.begin\u001b[1;34m(self)\u001b[0m\n\u001b[0;32m    314\u001b[0m \u001b[39m# read until we get a non-100 response\u001b[39;00m\n\u001b[0;32m    315\u001b[0m \u001b[39mwhile\u001b[39;00m \u001b[39mTrue\u001b[39;00m:\n\u001b[1;32m--> 316\u001b[0m     version, status, reason \u001b[39m=\u001b[39m \u001b[39mself\u001b[39;49m\u001b[39m.\u001b[39;49m_read_status()\n\u001b[0;32m    317\u001b[0m     \u001b[39mif\u001b[39;00m status \u001b[39m!=\u001b[39m CONTINUE:\n\u001b[0;32m    318\u001b[0m         \u001b[39mbreak\u001b[39;00m\n",
      "File \u001b[1;32mc:\\Users\\Mohammad reza\\miniconda3\\lib\\http\\client.py:277\u001b[0m, in \u001b[0;36mHTTPResponse._read_status\u001b[1;34m(self)\u001b[0m\n\u001b[0;32m    276\u001b[0m \u001b[39mdef\u001b[39;00m \u001b[39m_read_status\u001b[39m(\u001b[39mself\u001b[39m):\n\u001b[1;32m--> 277\u001b[0m     line \u001b[39m=\u001b[39m \u001b[39mstr\u001b[39m(\u001b[39mself\u001b[39;49m\u001b[39m.\u001b[39;49mfp\u001b[39m.\u001b[39;49mreadline(_MAXLINE \u001b[39m+\u001b[39;49m \u001b[39m1\u001b[39;49m), \u001b[39m\"\u001b[39m\u001b[39miso-8859-1\u001b[39m\u001b[39m\"\u001b[39m)\n\u001b[0;32m    278\u001b[0m     \u001b[39mif\u001b[39;00m \u001b[39mlen\u001b[39m(line) \u001b[39m>\u001b[39m _MAXLINE:\n\u001b[0;32m    279\u001b[0m         \u001b[39mraise\u001b[39;00m LineTooLong(\u001b[39m\"\u001b[39m\u001b[39mstatus line\u001b[39m\u001b[39m\"\u001b[39m)\n",
      "File \u001b[1;32mc:\\Users\\Mohammad reza\\miniconda3\\lib\\socket.py:669\u001b[0m, in \u001b[0;36mSocketIO.readinto\u001b[1;34m(self, b)\u001b[0m\n\u001b[0;32m    667\u001b[0m \u001b[39mwhile\u001b[39;00m \u001b[39mTrue\u001b[39;00m:\n\u001b[0;32m    668\u001b[0m     \u001b[39mtry\u001b[39;00m:\n\u001b[1;32m--> 669\u001b[0m         \u001b[39mreturn\u001b[39;00m \u001b[39mself\u001b[39;49m\u001b[39m.\u001b[39;49m_sock\u001b[39m.\u001b[39;49mrecv_into(b)\n\u001b[0;32m    670\u001b[0m     \u001b[39mexcept\u001b[39;00m timeout:\n\u001b[0;32m    671\u001b[0m         \u001b[39mself\u001b[39m\u001b[39m.\u001b[39m_timeout_occurred \u001b[39m=\u001b[39m \u001b[39mTrue\u001b[39;00m\n",
      "\u001b[1;31mKeyboardInterrupt\u001b[0m: "
     ]
    }
   ],
   "source": [
    "from data_loading import load_data\n",
    "train,val = load_data(experiment_id=501271265)"
   ]
  }
 ],
 "metadata": {
  "kernelspec": {
   "display_name": "Python 3",
   "language": "python",
   "name": "python3"
  },
  "language_info": {
   "codemirror_mode": {
    "name": "ipython",
    "version": 3
   },
   "file_extension": ".py",
   "mimetype": "text/x-python",
   "name": "python",
   "nbconvert_exporter": "python",
   "pygments_lexer": "ipython3",
   "version": "3.8.10"
  }
 },
 "nbformat": 4,
 "nbformat_minor": 2
}
